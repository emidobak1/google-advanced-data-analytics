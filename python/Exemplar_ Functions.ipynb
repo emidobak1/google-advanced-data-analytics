{
 "cells": [
  {
   "cell_type": "markdown",
   "metadata": {
    "id": "GMHq-oYMOgDn"
   },
   "source": [
    "<h1>Exemplar: Functions</h1>"
   ]
  },
  {
   "cell_type": "markdown",
   "metadata": {
    "id": "gAKgp6DMOjET"
   },
   "source": [
    "## Introduction \n",
    "\n",
    "In this lab, you will practice defining functions and returning values, writing clean code, and using comments to scaffold code.\n",
    "\n",
    "As a data professional, you'll often need to reuse the same block of code more than once when you're writing Python code to automate a certain task. This is why functions are important. You can call functions whenever you need the computer to execute those steps. Python has built-in functions that have already been defined and also provides tools for users to define their own functions.\n",
    "\n",
    "In this lab, you'll define and call a function that calculates the revenue a theater makes depending on the number of tickets sold, then test the function with a new value."
   ]
  },
  {
   "cell_type": "markdown",
   "metadata": {
    "id": "_Wp-QRpuPcOM"
   },
   "source": [
    "## Task 1: Analyze a function\n",
    "\n",
    "In your work as a data analyst for a movie theater, you're asked to quickly calculate how much the theater has made in sales so far.\n",
    "\n",
    "In the following cell, analyze the function named `total_sales` and make note of your observations.\n",
    "\n",
    "You do not need to run this cell, but if you do it will not produce an output."
   ]
  },
  {
   "cell_type": "code",
   "execution_count": 1,
   "metadata": {
    "id": "NLRDTukSOf1C"
   },
   "outputs": [],
   "source": [
    "# Define a function named `total_sales`\n",
    "def total_sales():\n",
    "\n",
    "    # Return a value\n",
    "    return"
   ]
  },
  {
   "cell_type": "markdown",
   "metadata": {
    "id": "MsKuh2kkPpSk"
   },
   "source": [
    "## Task 2: Add a parameter and calculations to the function\n",
    "\n",
    "As you continue refining your code, imagine that the price of tickets is $7.99. Now you will need to add a parameter to the function definition and the calculation to the function body.\n",
    "\n"
   ]
  },
  {
   "cell_type": "markdown",
   "metadata": {
    "id": "ClU-wgSaOwd8"
   },
   "source": [
    "### 2a: Add a calculation to the function\n",
    "\n",
    "In this task, update the `total_sales` function so it returns the value of the number of tickets `n` multiplied by the price `7.99`."
   ]
  },
  {
   "cell_type": "code",
   "execution_count": 2,
   "metadata": {
    "id": "ZQYeEMP0ObYq"
   },
   "outputs": [],
   "source": [
    "# Add a parameter to the function\n",
    "def total_sales(n):\n",
    "\n",
    "    # Multiply the parameter by the ticket price to get total sales\n",
    "    return n * 7.99"
   ]
  },
  {
   "cell_type": "markdown",
   "metadata": {
    "id": "6z1FvPWUOcDV"
   },
   "source": [
    "### 2b: Call the function\n",
    "\n",
    "With the calculations added to the `total_sales` function, test it with a value of `59`.\n",
    "\n",
    "*Example:*\n",
    "\n",
    "```\n",
    "[IN]  total_sales(59)\n",
    "[OUT] 471.41\n",
    "```"
   ]
  },
  {
   "cell_type": "code",
   "execution_count": 3,
   "metadata": {
    "colab": {
     "base_uri": "https://localhost:8080/"
    },
    "executionInfo": {
     "elapsed": 157,
     "status": "ok",
     "timestamp": 1678822633758,
     "user": {
      "displayName": "Arwen Shackelford",
      "userId": "14614635049532489764"
     },
     "user_tz": 300
    },
    "id": "_ZxY3A03ObKz",
    "outputId": "830be731-f255-4400-a008-e91925dce72a"
   },
   "outputs": [
    {
     "data": {
      "text/plain": [
       "471.41"
      ]
     },
     "execution_count": 3,
     "metadata": {},
     "output_type": "execute_result"
    }
   ],
   "source": [
    "# Call the function\n",
    "total_sales(59)"
   ]
  },
  {
   "cell_type": "markdown",
   "metadata": {
    "id": "xxU_GtipY_3X"
   },
   "source": [
    "# Task 3: Create a function that accepts two values\n",
    "\n",
    "You learn that the price of tickets is more expensive for opening night, and now you need to create a function that will accept two values and return their total value."
   ]
  },
  {
   "cell_type": "markdown",
   "metadata": {
    "id": "G1DTTHSMPHSP"
   },
   "source": [
    "### 3a: Refine the `total_sales` function\n",
    "\n",
    "*  Update your `total_sales` function so it accepts two parameters:\n",
    "    * `price` for the price per ticket\n",
    "    * `num_tickets` for the total number of tickets.\n",
    "\n",
    "* Return the product of the two arguments. Use the Python `round()` function to round the returned value to two decimal places. Refer to the [round() Python documentation](https://docs.python.org/3/library/functions.html#round) for more information regarding this function."
   ]
  },
  {
   "cell_type": "code",
   "execution_count": 4,
   "metadata": {
    "id": "HYOULfnFY_hf"
   },
   "outputs": [],
   "source": [
    "# Refine the `total_sales` function\n",
    "def total_sales(price, num_tickets):\n",
    "    return round(price * num_tickets, 2)"
   ]
  },
  {
   "cell_type": "markdown",
   "metadata": {
    "id": "rO_PcGS0PaqN"
   },
   "source": [
    "### 3b: Call the function\n",
    "\n",
    "Then, call the function with the value of `15.99` for `price` and `1001` for the number of tickets sold (`num_tickets`).\n",
    "\n",
    "Example:\n",
    "\n",
    "```\n",
    "[IN]  total_sales(15.99, 1001)\n",
    "[OUT] 16005.99\n",
    "```"
   ]
  },
  {
   "cell_type": "code",
   "execution_count": 5,
   "metadata": {
    "colab": {
     "base_uri": "https://localhost:8080/"
    },
    "executionInfo": {
     "elapsed": 9,
     "status": "ok",
     "timestamp": 1680108091915,
     "user": {
      "displayName": "Arwen Shackelford",
      "userId": "14614635049532489764"
     },
     "user_tz": 300
    },
    "id": "0_YjbPdqPiY_",
    "outputId": "56427234-2aad-42ec-90b6-168a715878ec"
   },
   "outputs": [
    {
     "data": {
      "text/plain": [
       "16005.99"
      ]
     },
     "execution_count": 5,
     "metadata": {},
     "output_type": "execute_result"
    }
   ],
   "source": [
    "# Call the function with two values\n",
    "total_sales(15.99, 1001)"
   ]
  },
  {
   "cell_type": "markdown",
   "metadata": {
    "id": "WgDaEDcnkLrh"
   },
   "source": [
    "## Task 4: Test the function with different values\n",
    "\n",
    "As prices and sales fluctate, your function will need to accept different values and still return the total sales.\n",
    "\n",
    "In this task, practice calling your function with different values.\n",
    "\n",
    "Example:\n",
    "\n",
    "```\n",
    "[IN]  total_sales(16.99, 1232)\n",
    "[OUT] 20931.68\n",
    "\n",
    "[IN]  total_sales(10.50, 1472)\n",
    "[OUT] 15456.0\n",
    "\n",
    "[IN]  total_sales(5.00, 349)\n",
    "[OUT] 1745.0\n",
    "\n",
    "```"
   ]
  },
  {
   "cell_type": "code",
   "execution_count": 6,
   "metadata": {
    "colab": {
     "base_uri": "https://localhost:8080/"
    },
    "executionInfo": {
     "elapsed": 7,
     "status": "ok",
     "timestamp": 1680108873629,
     "user": {
      "displayName": "Arwen Shackelford",
      "userId": "14614635049532489764"
     },
     "user_tz": 300
    },
    "id": "ijHm87edkeHm",
    "outputId": "d0984542-bd27-4053-8d90-eb47f2aa0dea"
   },
   "outputs": [
    {
     "data": {
      "text/plain": [
       "20931.68"
      ]
     },
     "execution_count": 6,
     "metadata": {},
     "output_type": "execute_result"
    }
   ],
   "source": [
    "# Call `total_sales` with 16.99 price and 1232 num_tickets\n",
    "total_sales(16.99, 1232)"
   ]
  },
  {
   "cell_type": "code",
   "execution_count": 7,
   "metadata": {
    "colab": {
     "base_uri": "https://localhost:8080/"
    },
    "executionInfo": {
     "elapsed": 139,
     "status": "ok",
     "timestamp": 1680108515083,
     "user": {
      "displayName": "Arwen Shackelford",
      "userId": "14614635049532489764"
     },
     "user_tz": 300
    },
    "id": "O7mzEO9vRTSJ",
    "outputId": "750b5ba6-365a-4de4-c900-0cae08888400"
   },
   "outputs": [
    {
     "data": {
      "text/plain": [
       "15456.0"
      ]
     },
     "execution_count": 7,
     "metadata": {},
     "output_type": "execute_result"
    }
   ],
   "source": [
    "# Call `total_sales` with 10.50 price and 1472 num_tickets\n",
    "total_sales(10.50, 1472)"
   ]
  },
  {
   "cell_type": "code",
   "execution_count": 8,
   "metadata": {
    "colab": {
     "base_uri": "https://localhost:8080/"
    },
    "executionInfo": {
     "elapsed": 153,
     "status": "ok",
     "timestamp": 1680108517181,
     "user": {
      "displayName": "Arwen Shackelford",
      "userId": "14614635049532489764"
     },
     "user_tz": 300
    },
    "id": "NyActmTPRTDD",
    "outputId": "b3c59640-1e0f-42d4-dff0-25ccfb63e4c8"
   },
   "outputs": [
    {
     "data": {
      "text/plain": [
       "1745.0"
      ]
     },
     "execution_count": 8,
     "metadata": {},
     "output_type": "execute_result"
    }
   ],
   "source": [
    "# Call `total_sales` with 5.00 price and 349 num_tickets\n",
    "total_sales(5.00, 349)"
   ]
  },
  {
   "cell_type": "markdown",
   "metadata": {
    "id": "OySdekvzRCrS"
   },
   "source": [
    "## Conclusion\n",
    "\n",
    "**What are your key takeaways from this lab?**"
   ]
  },
  {
   "cell_type": "markdown",
   "metadata": {
    "id": "5DIXNe9tRDkn"
   },
   "source": [
    "Python enables you to create and call your own functions, which consist of three main components: a definition statement, a body, and an output statement (e.g., return or print). The function header starts with the def keyword, followed by the function name, parentheses, and a colon. The body contains indented code that defines the function's actions, and the output statement specifies what the function will produce. Functions allow for code reuse, enabling frequently used calculations to be saved and reused without rewriting them. They can accept single or multiple parameters, making them adaptable to varying inputs. Enhancing return statements with functions like round() keeps outputs concise and readable. Adding clear comments to functions improves readability by explaining the code's purpose and expected results."
   ]
  }
 ],
 "metadata": {
  "colab": {
   "provenance": []
  },
  "kernelspec": {
   "display_name": "Python 3",
   "language": "python",
   "name": "python3"
  },
  "language_info": {
   "codemirror_mode": {
    "name": "ipython",
    "version": 3
   },
   "file_extension": ".py",
   "mimetype": "text/x-python",
   "name": "python",
   "nbconvert_exporter": "python",
   "pygments_lexer": "ipython3",
   "version": "3.7.6"
  }
 },
 "nbformat": 4,
 "nbformat_minor": 1
}
