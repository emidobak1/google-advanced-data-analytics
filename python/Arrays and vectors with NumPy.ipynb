{
 "cells": [
  {
   "cell_type": "markdown",
   "metadata": {
    "id": "1BwuLdPviXFX"
   },
   "source": [
    "<h1>Exemplar: Vectors and arrays with NumPy</h1>"
   ]
  },
  {
   "cell_type": "markdown",
   "metadata": {
    "id": "ggu2qS99icFG"
   },
   "source": [
    "## Introduction \n",
    "\n",
    "Your work as a data professional for the U.S. Environmental Protection Agency (EPA) requires you to analyze air quality index data collected from the United States and Mexico.\n",
    "\n",
    "The air quality index (AQI) is a number that runs from 0 to 500. The higher the AQI value, the greater the level of air pollution and the greater the health concern. For example, an AQI value of 50 or below represents good air quality, while an AQI value over 300 represents hazardous air quality. Refer to this guide from [AirNow.gov](https://www.airnow.gov/aqi/aqi-basics/) for more information.\n",
    "\n",
    "In this lab, you will work with NumPy arrays to perform calculations and evaluations with data they contain. Specifically, you'll be working with just the data from the numerical AQI readings."
   ]
  },
  {
   "cell_type": "markdown",
   "metadata": {
    "id": "W6dEFretirNd"
   },
   "source": [
    "# Task 1: Create an array using NumPy\n",
    "\n",
    "The EPA has compiled some AQI data where each AQI report has the state name, county name, and AQI. Refer to the table below as an example.\n",
    "\n",
    "| state_name | county_name | aqi |\n",
    "| ------- | ------- | ------ |\n",
    "| Arizona | Maricopa | 18 |\n",
    "| California | Alameda | 11 |\n",
    "| California | Butte | 6 |\n",
    "| Texas | El Paso | 40 |\n",
    "| Florida | Duval | 15 |\n",
    "\n",
    "<br/>"
   ]
  },
  {
   "cell_type": "markdown",
   "metadata": {
    "id": "r-AI4kdk9fwg"
   },
   "source": [
    "## 1a: Import NumPy\n",
    "\n",
    "Import NumPy using its standard alias."
   ]
  },
  {
   "cell_type": "code",
   "execution_count": null,
   "metadata": {
    "id": "iprLwtIliTxu"
   },
   "outputs": [],
   "source": [
    "import numpy as np"
   ]
  },
  {
   "cell_type": "markdown",
   "metadata": {
    "id": "2PYX8U_C9nFw"
   },
   "source": [
    "## 1b: Create an array of AQI data\n",
    "\n",
    "You are given an ordered `list` of AQI readings called `aqi_list`.\n",
    "\n",
    "1. Use a NumPy function to convert the list to an `ndarray`. Assign the result to a variable called `aqi_array`.\n",
    "2. Print the length of `aqi_array`.\n",
    "3. Print the first five elements of `aqi_array`.\n",
    "\n",
    "*Expected result:*\n",
    "\n",
    "```\n",
    "[OUT] 1725\n",
    "      [18.  9. 20. 11.  6.]\n",
    "```"
   ]
  },
  {
   "cell_type": "code",
   "execution_count": null,
   "metadata": {
    "id": "vODHtgS094Md"
   },
   "outputs": [],
   "source": [
    "import ada_c2_labs as lab\n",
    "aqi_list = lab.fetch_epa('aqi')"
   ]
  },
  {
   "cell_type": "code",
   "execution_count": null,
   "metadata": {
    "colab": {
     "base_uri": "https://localhost:8080/"
    },
    "executionInfo": {
     "elapsed": 344,
     "status": "ok",
     "timestamp": 1680274159691,
     "user": {
      "displayName": "Matteo Riotto",
      "userId": "15211004813978485634"
     },
     "user_tz": 420
    },
    "id": "FHIOmXBpxixx",
    "outputId": "50a1f61f-e12d-448f-9bb8-25dbde039457"
   },
   "outputs": [
    {
     "name": "stdout",
     "output_type": "stream",
     "text": [
      "1725\n",
      "[18.  9. 20. 11.  6.]\n"
     ]
    }
   ],
   "source": [
    "aqi_array = np.array(aqi_list)\n",
    "print(len(aqi_array))\n",
    "print(aqi_array[:5])"
   ]
  },
  {
   "cell_type": "markdown",
   "metadata": {
    "id": "ugLjdpOGBHZh"
   },
   "source": [
    "# Task 2: Calculate summary statistics\n",
    "\n",
    "Now that you have the AQI data stored in an array, use NumPy functions to calculate some summary statistics about it.\n",
    "\n",
    "* Use built-in NumPy functions to print the following values from `aqi_array`:\n",
    "    1. Maximum value\n",
    "    2. Minimum value\n",
    "    3. Median value\n",
    "    4. Standard deviation\n",
    "\n",
    "*Expected result:*\n",
    "\n",
    "```\n",
    "[OUT] Max = 93.0\n",
    "      Min = 0.0\n",
    "      Median = 8.0\n",
    "      Std = 10.382982538847708\n",
    "```"
   ]
  },
  {
   "cell_type": "code",
   "execution_count": null,
   "metadata": {
    "colab": {
     "base_uri": "https://localhost:8080/"
    },
    "executionInfo": {
     "elapsed": 215,
     "status": "ok",
     "timestamp": 1680205629981,
     "user": {
      "displayName": "Matteo Riotto",
      "userId": "15211004813978485634"
     },
     "user_tz": 420
    },
    "id": "B5Iqr7BwBf1s",
    "outputId": "6686d85b-5225-4e10-d1dc-fe0b11aa327c"
   },
   "outputs": [
    {
     "name": "stdout",
     "output_type": "stream",
     "text": [
      "Max = 93.0\n",
      "Min = 0.0\n",
      "Median = 8.0\n",
      "Std = 10.382982538847708\n"
     ]
    }
   ],
   "source": [
    "print('Max =', np.max(aqi_array))\n",
    "print('Min =', np.min(aqi_array))\n",
    "print('Median =', np.median(aqi_array))\n",
    "print('Std =', np.std(aqi_array))"
   ]
  },
  {
   "cell_type": "markdown",
   "metadata": {
    "id": "nEn8XcTNaAqr"
   },
   "source": [
    "# Task 3: Calculate percentage of readings with cleanest AQI\n",
    "\n",
    "You are interested in how many air quality readings in the data represent the cleanest air, which we'll consider **readings of 5 or less.**\n",
    "\n",
    "To perform this calculation, you'll make use of one of the properties of arrays that make them so powerful: their element-wise operability. For example, when you add an integer to an `ndarray` using the `+` operator, it performs an element-wise addition on the whole array.\n",
    "\n",
    "```\n",
    "[IN]  my_array = np.array([1, 2, 3])\n",
    "      my_array = my_array + 10\n",
    "      print(my_array)\n",
    "\n",
    "[OUT] [11, 12, 13]\n",
    "```\n",
    "\n",
    "**The same concept applies to comparison operators used on an `ndarray`.** With this in mind:\n",
    "\n",
    "* Calculate the percentage of AQI readings that are considered cleanest:\n",
    "    1. Use a comparison statement to get an array of Boolean values that is the same length as `aqi_array`. Assign the result to variable called `boolean_aqi`.\n",
    "    2. Calculate the number of `True` values in the `boolean_aqi` and divide this number by the total number of values in the array. Assign the result to a variable named `percent_under_6` and print it.\n",
    "\n",
    "*Expected result:*\n",
    "\n",
    "```\n",
    "[OUT] 0.3194202898550725\n",
    "```\n",
    "\n",
    "\n"
   ]
  },
  {
   "cell_type": "code",
   "execution_count": null,
   "metadata": {
    "colab": {
     "base_uri": "https://localhost:8080/"
    },
    "executionInfo": {
     "elapsed": 7,
     "status": "ok",
     "timestamp": 1680198009355,
     "user": {
      "displayName": "Matteo Riotto",
      "userId": "15211004813978485634"
     },
     "user_tz": 420
    },
    "id": "bIT_DvzW_Pft",
    "outputId": "08813a24-6165-4185-f7c7-ea3cb0fccd81"
   },
   "outputs": [
    {
     "data": {
      "text/plain": [
       "0.3194202898550725"
      ]
     },
     "execution_count": 5,
     "metadata": {},
     "output_type": "execute_result"
    }
   ],
   "source": [
    "boolean_aqi = (aqi_array <= 5)\n",
    "\n",
    "percent_under_6 = boolean_aqi.sum() / len(boolean_aqi)\n",
    "percent_under_6"
   ]
  },
  {
   "cell_type": "markdown",
   "metadata": {
    "id": "XmR1gE_3i4m8"
   },
   "source": [
    "# Conclusion\n",
    "\n",
    "**What are your key takeaways from this lab?**"
   ]
  },
  {
   "cell_type": "markdown",
   "metadata": {
    "id": "7Ahc6avOE-7w"
   },
   "source": [
    "Python packages provide specialized functions for various tasks, such as NumPy, which offers tools for array manipulation and mathematical computations. Arrays, unlike lists, store a single data type and are processed much faster. They are ideal for element-wise operations, including arithmetic and comparisons."
   ]
  }
 ],
 "metadata": {
  "colab": {
   "provenance": [],
   "toc_visible": true
  },
  "kernelspec": {
   "display_name": "Python 3",
   "language": "python",
   "name": "python3"
  },
  "language_info": {
   "codemirror_mode": {
    "name": "ipython",
    "version": 3
   },
   "file_extension": ".py",
   "mimetype": "text/x-python",
   "name": "python",
   "nbconvert_exporter": "python",
   "pygments_lexer": "ipython3",
   "version": "3.7.6"
  }
 },
 "nbformat": 4,
 "nbformat_minor": 1
}
